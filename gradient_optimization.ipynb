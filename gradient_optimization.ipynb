{
 "cells": [
  {
   "cell_type": "markdown",
   "metadata": {},
   "source": [
    "# Gradient Optimization"
   ]
  },
  {
   "cell_type": "code",
   "execution_count": 3,
   "metadata": {},
   "outputs": [],
   "source": [
    "import numpy as np\n",
    "import matplotlib.pyplot as plt \n",
    "import pandas as pd\n",
    "from scipy import stats\n",
    "import warnings\n",
    "warnings.filterwarnings('ignore')"
   ]
  },
  {
   "cell_type": "markdown",
   "metadata": {},
   "source": [
    "### Writing my own functions for different gradient optimization methods and using them to fit data. "
   ]
  },
  {
   "cell_type": "markdown",
   "metadata": {},
   "source": [
    "`KaiC_data.csv` contains the data of concentration of the circadian protein KaiC as a function of time. The file contains two variables: Time (in hours) and KaiC (in arbitrary units)"
   ]
  },
  {
   "cell_type": "code",
   "execution_count": 7,
   "metadata": {},
   "outputs": [],
   "source": [
    "#reading in the data\n",
    "KaiC = pd.read_csv(\"data/KaiC_data.csv\")\n",
    "Time = np.array(KaiC.Time)\n",
    "Amount = np.array(KaiC.Amount)"
   ]
  },
  {
   "cell_type": "markdown",
   "metadata": {},
   "source": [
    "`Italy_COVID.csv` contains the data (case counts) from the first two months of the COVID outbreak for all of Italy"
   ]
  },
  {
   "cell_type": "code",
   "execution_count": 8,
   "metadata": {},
   "outputs": [],
   "source": [
    "Italy = pd.read_csv(\"data/Italy_COVID.csv\")\n",
    "cases = Italy.cases\n",
    "time = np.arange(0, len(cases))"
   ]
  },
  {
   "cell_type": "markdown",
   "metadata": {},
   "source": [
    "### Multidimensional optimization of Quadratic Functions \n",
    "\n",
    "Quadratic function with known linear and quardatic terms:\n",
    "\n",
    "$$ \n",
    "f( \\vec x)  = \\frac{1}{2}\\vec x^T \\mathbf A \\vec x - \\vec b \\vec x  \n",
    "$$\n",
    "\n",
    "(where f(x) is a scalar, x is a vector, b is a vector, and A is a matrix)"
   ]
  },
  {
   "cell_type": "code",
   "execution_count": 11,
   "metadata": {},
   "outputs": [],
   "source": [
    "#values to use in the functions\n",
    "A1 = np.array([[2, 1],[ 1, 2 ]])\n",
    "b1 = np.array([5, -2])"
   ]
  },
  {
   "cell_type": "code",
   "execution_count": 12,
   "metadata": {},
   "outputs": [
    {
     "name": "stdout",
     "output_type": "stream",
     "text": [
      "3.0\n",
      "[-4.  4.]\n"
     ]
    }
   ],
   "source": [
    "#necessary functions\n",
    "\n",
    "#quadratic function\n",
    "def quad_func(A,b,x):\n",
    "    return (1/2)*x.T@A@x - b@x\n",
    "\n",
    "#gradient function\n",
    "def gradient_func(A,b,x):\n",
    "    return (1/2)*A.T@x + (1/2)*A@x - b.T\n",
    "\n",
    "x = np.array([0,1])\n",
    "print(quad_func(A1,b1,x))\n",
    "print(gradient_func(A1,b1,x))"
   ]
  },
  {
   "cell_type": "markdown",
   "metadata": {},
   "source": [
    "### Gradient Descent Function"
   ]
  },
  {
   "cell_type": "code",
   "execution_count": 13,
   "metadata": {},
   "outputs": [
    {
     "name": "stdout",
     "output_type": "stream",
     "text": [
      "(array([ 3.99999785, -3.00000012]), 23)\n",
      "[ 4. -3.]\n"
     ]
    }
   ],
   "source": [
    "def gradient_descent_func(A,b,x0,max_step,tol):\n",
    "    step = 0\n",
    "    r = 1\n",
    "    diff = 100\n",
    "    old_value = quad_func(A,b,x0)\n",
    "    while step < max_step and diff > tol:\n",
    "        new_vec = x0 - r*gradient_func(A,b,x0)\n",
    "        new_value = quad_func(A,b,new_vec)\n",
    "        if new_value<old_value:\n",
    "            diff = np.linalg.norm(new_vec - x0)\n",
    "            step = step+1\n",
    "            x0 = new_vec \n",
    "            old_value = new_value\n",
    "        else:\n",
    "            r = r/2\n",
    "    return x0, step\n",
    "\n",
    "x0 = np.array([5,15])\n",
    "tol = 1*10**(-5)\n",
    "\n",
    "print(gradient_descent_func(A1, b1, x0, 10000, tol))\n",
    "print(np.linalg.solve(A1,b1))"
   ]
  },
  {
   "cell_type": "markdown",
   "metadata": {},
   "source": [
    "The given gradient descent function took 23 steps to converge to the given tolerance level. "
   ]
  },
  {
   "cell_type": "markdown",
   "metadata": {},
   "source": [
    "### Newton-Raphson Method"
   ]
  },
  {
   "cell_type": "code",
   "execution_count": 14,
   "metadata": {},
   "outputs": [
    {
     "name": "stdout",
     "output_type": "stream",
     "text": [
      "(array([ 4., -3.]), 2)\n",
      "[ 4. -3.]\n"
     ]
    }
   ],
   "source": [
    "def newton_func(H,b,x0,max_step,tol):\n",
    "    step = 0\n",
    "    diff = 100\n",
    "    old_value = quad_func(H,b,x0)\n",
    "    while step < max_step and diff > tol:\n",
    "        new_vec = x0 - np.linalg.inv(H)@gradient_func(H,b,x0)\n",
    "        new_value = quad_func(H,b,new_vec)\n",
    "        diff = np.linalg.norm(new_vec - x0)\n",
    "        step = step+1\n",
    "        x0 = new_vec \n",
    "        old_value = new_value\n",
    "    return x0, step\n",
    "\n",
    "x0 = np.array([5,15])\n",
    "tol = 1*10**(-5)\n",
    "\n",
    "print(newton_func(A1, b1, x0, 10000, tol))\n",
    "print(np.linalg.solve(A1,b1))"
   ]
  },
  {
   "cell_type": "markdown",
   "metadata": {},
   "source": [
    "Using the Newton-Raphson method, the function converged much faster taking only two steps. "
   ]
  },
  {
   "cell_type": "markdown",
   "metadata": {},
   "source": [
    "### Levenberg-Marquardt Method"
   ]
  },
  {
   "cell_type": "code",
   "execution_count": 15,
   "metadata": {},
   "outputs": [
    {
     "name": "stdout",
     "output_type": "stream",
     "text": [
      "(array([ 4., -3.]), 9)\n",
      "[ 4. -3.]\n"
     ]
    }
   ],
   "source": [
    "def lm_func14(H,b,x0,max_step,tol):\n",
    "    step = 0\n",
    "    diff = 100\n",
    "    old_value = quad_func(H,b,x0)\n",
    "    lamda = 100.0\n",
    "    s = 5\n",
    "    while step < max_step and diff > tol:\n",
    "        new_vec = x0 - np.linalg.inv(H + lamda*np.diag(np.diag(H)))@gradient_func(H,b,x0)\n",
    "        new_value = quad_func(H,b,new_vec)\n",
    "        if new_value < old_value:\n",
    "            diff = np.linalg.norm(new_vec - x0)\n",
    "            step = step+1\n",
    "            x0 = new_vec \n",
    "            old_value = new_value\n",
    "            lamda = lamda/s\n",
    "        else:\n",
    "            lamda = lamda*s\n",
    "    return x0, step\n",
    "\n",
    "x0 = np.array([5,15])\n",
    "tol = 1*10**(-5)\n",
    "\n",
    "print(lm_func14(A1, b1, x0, 10000, tol))\n",
    "print(np.linalg.solve(A1,b1))"
   ]
  },
  {
   "cell_type": "markdown",
   "metadata": {},
   "source": [
    "Using the Levenberg-Marquardt method, the function took 9 steps to converge. "
   ]
  },
  {
   "cell_type": "markdown",
   "metadata": {},
   "source": [
    "### Nonlinear Least Squares Optimization\n",
    "\n",
    "Using the Levenberg-Marquardt method to perform a nonlinear least squares fit, using the exponential decay function with parameters $a$ and $k$:\n",
    " \n",
    "$$\n",
    "f(x; a,k) = ae^{kx} \n",
    "$$\n",
    "\n",
    "### Auxilliary functions\n",
    "\n",
    "1. Function to compute the sum of square errors (the objective function) \n",
    "\n",
    "    $$ SSE = \\sum_i (ae^{kx_i} - y_i)^2 $$\n",
    "\n",
    "\n",
    "2. Function to calculate the gradient (G) and Hessian (H) for the nonlinear least squares optimization \n",
    "\n",
    "    * The gradient  component in the direction of parameter a is the sum over all data points of the following term:\n",
    "       $$ G[0] = \\sum_i  (f(x_i; a, k)-y_i) \\frac{\\partial f(x_i; a, k)}{\\partial a}$$ \n",
    "    * The gradient component in the direction of parameter k is the sum  over all data points of the following term:\n",
    "       $$ G[1] = \\sum_i  (f(x_i; a, k)-y_i) \\frac{\\partial f(x_i; a, k)}{\\partial k}$$ \n",
    "      Here $y_i = f(x_i; a, k)$, and SSE is calculated by the first function.\n",
    "    * The Hessian matrix is then computed as follows:\n",
    "       $$H[0,0] = \\sum_i \\left(\\frac{\\partial f (x_i; a, k)}{\\partial a} \\right)^2 $$\n",
    "       $$H[1,1] = \\sum_i  \\left(\\frac{\\partial f (x_i; a, k)}{\\partial k}\\right)^2$$\n",
    "       $$H[0,1] = H[1,0]= \\sum_i \\frac{\\partial f (x_i; a, k)}{\\partial a} \\frac{\\partial f (x_i; a, k)}{\\partial k}$$ \n",
    "         \n",
    "Test my functions with KaiC data, using parameters a=10 and k=-0.5. I should get:\n",
    "\n",
    "SSE = 3397.7197634698623 \n",
    "G = [[ -72.80278399],[-348.94647508]]\n",
    "H = [[1.58196699, 9.20551297],[9.20551297, 199.07470824]]"
   ]
  },
  {
   "cell_type": "code",
   "execution_count": 16,
   "metadata": {},
   "outputs": [],
   "source": [
    "def se_func (x,a,k):\n",
    "    return a*np.exp(k*x)"
   ]
  },
  {
   "cell_type": "code",
   "execution_count": 19,
   "metadata": {},
   "outputs": [
    {
     "data": {
      "text/plain": [
       "3397.7197634698623"
      ]
     },
     "execution_count": 19,
     "metadata": {},
     "output_type": "execute_result"
    }
   ],
   "source": [
    "def sse_func (x,y,a,k):\n",
    "    return np.sum((se_func(x,a,k) - y)**2)\n",
    "\n",
    "a = 10\n",
    "k = -0.5\n",
    "sse_func(KaiC.iloc[:,0], KaiC.iloc[:,1],a,k)  "
   ]
  },
  {
   "cell_type": "code",
   "execution_count": 20,
   "metadata": {},
   "outputs": [
    {
     "data": {
      "text/plain": [
       "(array([ -72.80278399, -348.94647508]),\n",
       " array([[  1.58196699,   9.20551297],\n",
       "        [  9.20551297, 199.07470824]]))"
      ]
     },
     "execution_count": 20,
     "metadata": {},
     "output_type": "execute_result"
    }
   ],
   "source": [
    "def grad_hess_func (x,y,a,k):\n",
    "    G = np.zeros(2)\n",
    "    H = np.array([[0.0, 0.0],[ 0.0, 0.0]])\n",
    "    se = a*np.exp(k*x) - y\n",
    "    pa = np.exp(k*x)\n",
    "    pk = a*x*np.exp(k*x)\n",
    "    G[0] = np.sum(se * pa)\n",
    "    G[1] = np.sum(se * pk)\n",
    "    H[0,0] = np.sum(pa**2)\n",
    "    H[1,1] = np.sum(pk**2)\n",
    "    H[1,0] = np.sum(pa*pk)\n",
    "    H[0,1] = H[1,0]\n",
    "    return G, H\n",
    "\n",
    "a = 10\n",
    "k = -0.5\n",
    "grad_hess_func(KaiC.iloc[:,0], KaiC.iloc[:,1],a,k)"
   ]
  },
  {
   "cell_type": "markdown",
   "metadata": {},
   "source": [
    "### Modifying my function to implement the Levenberg-Marquardt method for finding best-fit parameters a and k for exponential curve-fitting\n"
   ]
  },
  {
   "cell_type": "code",
   "execution_count": 21,
   "metadata": {},
   "outputs": [],
   "source": [
    "def lm_func22(a0,k0,x,y,max_step,tol,scale):\n",
    "    step = 0\n",
    "    diff = 100\n",
    "    old_vec = np.array([a0, k0])\n",
    "    old_value = sse_func(x,y,a0,k0)\n",
    "    lamda = 100.0\n",
    "    while step < max_step and diff > tol:\n",
    "        G,H = grad_hess_func(x,y,a0,k0)\n",
    "        new_vec = old_vec - np.linalg.inv(H + lamda*np.diag(np.diag(H)))@G\n",
    "        a0, k0 = new_vec\n",
    "        new_value = sse_func(x,y,a0,k0)\n",
    "        if new_value < old_value:\n",
    "            diff = np.linalg.norm(new_vec - old_vec)\n",
    "            step = step+1\n",
    "            old_vec = new_vec \n",
    "            old_value = new_value\n",
    "            lamda = lamda/scale\n",
    "        else:\n",
    "            lamda = lamda*scale\n",
    "    a0, k0 = old_vec \n",
    "    return a0, k0, step"
   ]
  },
  {
   "cell_type": "code",
   "execution_count": 22,
   "metadata": {},
   "outputs": [
    {
     "data": {
      "text/plain": [
       "(59.28974011690078, -0.605985748917563, 13)"
      ]
     },
     "execution_count": 22,
     "metadata": {},
     "output_type": "execute_result"
    }
   ],
   "source": [
    "a0 = 10\n",
    "k0 = -0.5\n",
    "tol = 1*10**(-5)\n",
    "\n",
    "Kai_lm = lm_func22(a0,k0,KaiC.iloc[:,0], KaiC.iloc[:,1],1000,tol,3)\n",
    "Kai_lm"
   ]
  },
  {
   "cell_type": "code",
   "execution_count": 24,
   "metadata": {},
   "outputs": [
    {
     "data": {
      "image/png": "[encoded data removed]",
      "text/plain": [
       "<Figure size 432x288 with 1 Axes>"
      ]
     },
     "metadata": {
      "needs_background": "light"
     },
     "output_type": "display_data"
    },
    {
     "name": "stdout",
     "output_type": "stream",
     "text": [
      "SSE: 7.243426946877536\n"
     ]
    }
   ],
   "source": [
    "amount_kai = se_func(Time, Kai_lm[0], Kai_lm[1])\n",
    "plt.scatter(Time, Amount, label = 'data')\n",
    "plt.plot(Time, amount_kai, 'orange', label = 'LM fit')\n",
    "plt.title('KaiC amount over Time')\n",
    "plt.xlabel('Time (hrs)')\n",
    "plt.ylabel('KaiC amount')\n",
    "plt.legend()\n",
    "plt.show()\n",
    "\n",
    "SSE_kai = sum((amount_kai - Amount)**2)\n",
    "print('SSE:', SSE_kai)"
   ]
  },
  {
   "cell_type": "markdown",
   "metadata": {},
   "source": [
    "The SSE is fairly low, and the fit looks good. "
   ]
  },
  {
   "cell_type": "markdown",
   "metadata": {},
   "source": [
    "### Fitting Covid data from Italy"
   ]
  },
  {
   "cell_type": "code",
   "execution_count": 25,
   "metadata": {},
   "outputs": [
    {
     "data": {
      "text/plain": [
       "(251.71073271305258, 0.10639127757098622, 70)"
      ]
     },
     "execution_count": 25,
     "metadata": {},
     "output_type": "execute_result"
    }
   ],
   "source": [
    "a0 = 0.5\n",
    "k0 = 0.05 \n",
    "tol = 1*10**(-2.5)\n",
    "time = time.astype(float)\n",
    "cases = cases.astype(float)\n",
    "covid_lm = lm_func22(a0,k0,time,cases,1000,tol,8)\n",
    "covid_lm"
   ]
  },
  {
   "cell_type": "code",
   "execution_count": 26,
   "metadata": {},
   "outputs": [
    {
     "data": {
      "image/png": "[encoded data removed]",
      "text/plain": [
       "<Figure size 432x288 with 1 Axes>"
      ]
     },
     "metadata": {
      "needs_background": "light"
     },
     "output_type": "display_data"
    },
    {
     "name": "stdout",
     "output_type": "stream",
     "text": [
      "SSE: 699403404.0976192\n"
     ]
    }
   ],
   "source": [
    "cases_covid = se_func(time, covid_lm[0], covid_lm[1])\n",
    "\n",
    "plt.scatter(time, cases, label = 'data')\n",
    "plt.plot(time, cases_covid, 'orange', label = 'LM fit')\n",
    "plt.title('New Cases over Time')\n",
    "plt.xlabel('Time (days)')\n",
    "plt.ylabel('New Cases')\n",
    "plt.legend()\n",
    "plt.show()\n",
    "\n",
    "SSE_covid = sum((cases_covid - cases)**2)\n",
    "print('SSE:', SSE_covid)"
   ]
  },
  {
   "cell_type": "markdown",
   "metadata": {},
   "source": [
    "There is a higher SSE and the fit appears a bit too steep compared to the actual data. "
   ]
  },
  {
   "cell_type": "code",
   "execution_count": null,
   "metadata": {},
   "outputs": [],
   "source": []
  }
 ],
 "metadata": {
  "kernelspec": {
   "display_name": "Python 3",
   "language": "python",
   "name": "python3"
  },
  "language_info": {
   "codemirror_mode": {
    "name": "ipython",
    "version": 3
   },
   "file_extension": ".py",
   "mimetype": "text/x-python",
   "name": "python",
   "nbconvert_exporter": "python",
   "pygments_lexer": "ipython3",
   "version": "3.7.6"
  }
 },
 "nbformat": 4,
 "nbformat_minor": 4
}

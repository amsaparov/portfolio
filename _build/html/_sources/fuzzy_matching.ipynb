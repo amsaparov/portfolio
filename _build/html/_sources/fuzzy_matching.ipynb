{
 "cells": [
  {
   "cell_type": "markdown",
   "metadata": {},
   "source": [
    "# Fuzzy Matching"
   ]
  },
  {
   "cell_type": "code",
   "execution_count": 2,
   "metadata": {},
   "outputs": [],
   "source": [
    "import numpy as np\n",
    "from datascience import *\n",
    "import matplotlib\n",
    "%matplotlib inline\n",
    "import matplotlib.pyplot as plots\n",
    "plots.style.use('fivethirtyeight')\n",
    "import warnings\n",
    "warnings.simplefilter(action=\"ignore\", category=FutureWarning)\n",
    "warnings.filterwarnings('ignore')"
   ]
  },
  {
   "cell_type": "markdown",
   "metadata": {},
   "source": [
    "## Constructing a naive plagirism detector"
   ]
  },
  {
   "cell_type": "code",
   "execution_count": 4,
   "metadata": {},
   "outputs": [],
   "source": [
    "#Break a string into qgrams (q-character tokens)\n",
    "#Pad the string with spaces on the front and end\n",
    "def qgram(str,q):\n",
    "    str = ' ' + str + ' '\n",
    "    return([str[i:i+q] for i in range(len(str)-(q-1))])\n",
    "\n",
    "#Compute the jaccard similarity of two strings using trigrams\n",
    "def jaccard_simq(str1, str2,q,verbose=False): \n",
    "    set1 = set(qgram(str1,q)) \n",
    "    set2 = set(qgram(str2,q))\n",
    "    common_tokens = set1.intersection(set2)\n",
    "    all_tokens = set1.union(set2)\n",
    "    if verbose:\n",
    "        print('set1 =',set1)\n",
    "        print('set2 =',set2)\n",
    "        print('Intersection =',common_tokens)\n",
    "        print('Union =',all_tokens)\n",
    "        print('Common Tokens =',len(common_tokens),\n",
    "              'Total Tokens =',len(all_tokens))\n",
    "    return float(len(common_tokens) / len(all_tokens))"
   ]
  },
  {
   "cell_type": "code",
   "execution_count": 5,
   "metadata": {},
   "outputs": [
    {
     "name": "stdout",
     "output_type": "stream",
     "text": [
      "set1 = {'ui', 'n ', 'wn', 'k ', ' t', 'x ', ' f', ' b', 'ow', 'br', 'th', 'ck', 'ox', 'e ', 'qu', 'ro', 'he', 'fo', 'ic', ' q'}\n",
      "set2 = {'ui', 'n ', 'wn', 'k ', ' t', 'x ', ' f', ' b', 'ow', 'br', 'th', 'ck', 'ox', 'e ', 'qu', 'ro', 'fo', 'he', 'ic', ' q'}\n",
      "Intersection = {'ui', 'n ', 'wn', 'k ', ' t', 'x ', ' f', ' b', 'ow', 'br', 'th', 'ck', 'ox', 'e ', 'qu', 'ro', 'fo', 'he', 'ic', ' q'}\n",
      "Union = {'ui', 'n ', 'wn', 'k ', ' t', 'x ', ' f', ' b', 'ow', 'br', 'th', 'ck', 'ox', 'e ', 'qu', 'ro', 'he', 'fo', 'ic', ' q'}\n",
      "Common Tokens = 20 Total Tokens = 20\n"
     ]
    },
    {
     "data": {
      "text/plain": [
       "1.0"
      ]
     },
     "execution_count": 5,
     "metadata": {},
     "output_type": "execute_result"
    }
   ],
   "source": [
    "#example of function\n",
    "jaccard_simq('the quick brown fox','fox quick brown the', 2, True)"
   ]
  },
  {
   "cell_type": "code",
   "execution_count": 6,
   "metadata": {},
   "outputs": [
    {
     "data": {
      "text/plain": [
       "1.0"
      ]
     },
     "execution_count": 6,
     "metadata": {},
     "output_type": "execute_result"
    }
   ],
   "source": [
    "jaccard_simq('the quick brown fox','fox quick brown the', 2)"
   ]
  },
  {
   "cell_type": "code",
   "execution_count": 12,
   "metadata": {},
   "outputs": [],
   "source": [
    "#using wikipedia text as original reference\n",
    "original = open(\"original.txt\",\"r\").read()"
   ]
  },
  {
   "cell_type": "code",
   "execution_count": 13,
   "metadata": {},
   "outputs": [],
   "source": [
    "#five different student's responses\n",
    "studentA = open(\"studentA.txt\",\"r\").read()\n",
    "studentB = open(\"studentB.txt\",\"r\").read()\n",
    "studentC = open(\"studentC.txt\",\"r\").read()\n",
    "studentD = open(\"studentD.txt\",\"r\").read()\n",
    "studentE = open(\"studentE.txt\",\"r\").read()"
   ]
  },
  {
   "cell_type": "markdown",
   "metadata": {},
   "source": [
    "Calculating the Jaccard distances between each of the five student responses and the original Wikipedia reference for all q between 2 and 20\n"
   ]
  },
  {
   "cell_type": "code",
   "execution_count": 17,
   "metadata": {},
   "outputs": [
    {
     "data": {
      "text/html": [
       "<table border=\"1\" class=\"dataframe\">\n",
       "    <thead>\n",
       "        <tr>\n",
       "            <th>q</th> <th>A</th> <th>B</th> <th>C</th> <th>D</th> <th>E</th>\n",
       "        </tr>\n",
       "    </thead>\n",
       "    <tbody>\n",
       "        <tr>\n",
       "            <td>2   </td> <td>0.713959</td> <td>0.436647 </td> <td>0.449561 </td> <td>0.413242</td> <td>0.454148</td>\n",
       "        </tr>\n",
       "        <tr>\n",
       "            <td>3   </td> <td>0.528192</td> <td>0.261528 </td> <td>0.232156 </td> <td>0.244681</td> <td>0.2847  </td>\n",
       "        </tr>\n",
       "        <tr>\n",
       "            <td>4   </td> <td>0.457965</td> <td>0.162698 </td> <td>0.128345 </td> <td>0.17714 </td> <td>0.200939</td>\n",
       "        </tr>\n",
       "        <tr>\n",
       "            <td>5   </td> <td>0.42492 </td> <td>0.108565 </td> <td>0.0793766</td> <td>0.150758</td> <td>0.166093</td>\n",
       "        </tr>\n",
       "        <tr>\n",
       "            <td>6   </td> <td>0.402108</td> <td>0.0777298</td> <td>0.0480556</td> <td>0.131777</td> <td>0.147793</td>\n",
       "        </tr>\n",
       "    </tbody>\n",
       "</table>\n",
       "<p>... (13 rows omitted)</p>"
      ],
      "text/plain": [
       "<IPython.core.display.HTML object>"
      ]
     },
     "metadata": {},
     "output_type": "display_data"
    }
   ],
   "source": [
    "jac_tbl = Table().with_columns('q', [],\n",
    "                              'A', [],\n",
    "                              'B', [],\n",
    "                              'C', [],\n",
    "                              'D',[],\n",
    "                              'E', [])\n",
    "\n",
    "for i in np.arange(2,20):\n",
    "    row = [i]\n",
    "    row.append(jaccard_simq(original, studentA, i))\n",
    "    row.append(jaccard_simq(original, studentB, i))\n",
    "    row.append(jaccard_simq(original, studentC, i))\n",
    "    row.append(jaccard_simq(original, studentD, i))\n",
    "    row.append(jaccard_simq(original, studentE, i))\n",
    "    jac_tbl.append(row)\n",
    "jac_tbl.show(5)"
   ]
  },
  {
   "cell_type": "code",
   "execution_count": 18,
   "metadata": {},
   "outputs": [
    {
     "data": {
      "image/png": "[encoded data removed]",
      "text/plain": [
       "<Figure size 432x288 with 1 Axes>"
      ]
     },
     "metadata": {},
     "output_type": "display_data"
    }
   ],
   "source": [
    "#plot the jaccard distances for each student \n",
    "jac_tbl.plot('q')\n",
    "plots.title('Jaccard Distances')\n",
    "plots.ylabel('Jaccard Distance')\n",
    "plots.show()"
   ]
  },
  {
   "cell_type": "markdown",
   "metadata": {},
   "source": [
    "### Findings\n",
    "A may have some plagarism. The rest start at a high similarity sure to short tokens, but the jaccard distance quickly decreases to below 0.11 for students B,C,D, and E as the tokens increase in length (plagirism is unlikely). However, student A's jaccard distance starts much higher than the rest, and even though it decreases as token length increases, it does not go lower than 0.3. Thus, even at the sentence length (20 tokens), there is still high similarity. "
   ]
  },
  {
   "cell_type": "markdown",
   "metadata": {},
   "source": [
    "### Does the length of text matter?"
   ]
  },
  {
   "cell_type": "code",
   "execution_count": 19,
   "metadata": {},
   "outputs": [
    {
     "data": {
      "text/plain": [
       "[3098, 1243, 1368, 1076, 493, 610]"
      ]
     },
     "execution_count": 19,
     "metadata": {},
     "output_type": "execute_result"
    }
   ],
   "source": [
    "[len(original), len(studentA), len(studentB), len(studentC), len(studentD), len(studentE)]"
   ]
  },
  {
   "cell_type": "markdown",
   "metadata": {},
   "source": [
    "Yes, the length of the text matters. A shorter paper will have a shorter jaccard distance. If the text and original are the same then the intersection is equal to the total tokens of the text (same as original). The union is the total tokens, and the jaccard distance is ultimately 1. If you take a shorter portion of the text and compare it to the same original, the maximum intersection can only be as long as the text (the inersecion length decreases). However, the intersection still carries the original text and therefore stays large in comparison. Thus, the jaccard distance decreases with a shorter text (even if it is fully plagarized). \n",
    "\n",
    "This is important for our five student scenario because the length of student A, B, and C's papers are substantially longer than students D and E (about 2x as long). Therefore, if a shorter text has a higher jaccard score (compared to a longer text) the text is more likely to have been plagarized. Ultimately, text length should be taken into account when using jaccard distances to evaluate plagarism. \n"
   ]
  },
  {
   "cell_type": "code",
   "execution_count": null,
   "metadata": {},
   "outputs": [],
   "source": []
  }
 ],
 "metadata": {
  "kernelspec": {
   "display_name": "Python 3",
   "language": "python",
   "name": "python3"
  },
  "language_info": {
   "codemirror_mode": {
    "name": "ipython",
    "version": 3
   },
   "file_extension": ".py",
   "mimetype": "text/x-python",
   "name": "python",
   "nbconvert_exporter": "python",
   "pygments_lexer": "ipython3",
   "version": "3.7.6"
  }
 },
 "nbformat": 4,
 "nbformat_minor": 4
}

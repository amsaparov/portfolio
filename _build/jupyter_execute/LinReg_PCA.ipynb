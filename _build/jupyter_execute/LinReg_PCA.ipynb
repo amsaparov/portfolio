{
 "cells": [
  {
   "cell_type": "markdown",
   "metadata": {},
   "source": [
    "# Linear Regression and PCA"
   ]
  },
  {
   "cell_type": "markdown",
   "metadata": {},
   "source": [
    "### Writing my own Linear Regression and Principle Component Analysis functions and applying them to real data sets. "
   ]
  },
  {
   "cell_type": "code",
   "execution_count": 1,
   "metadata": {},
   "outputs": [],
   "source": [
    "import numpy as np \n",
    "import matplotlib.pyplot as plt \n",
    "from scipy import stats\n",
    "import pandas as pd\n",
    "from sklearn.decomposition import PCA\n",
    "import warnings\n",
    "warnings.filterwarnings('ignore')"
   ]
  },
  {
   "cell_type": "markdown",
   "metadata": {},
   "source": [
    "## Linear regression \n",
    "\n",
    "To calculate the slope and intercept, I solved the normal equation below, where $\\beta$ is the vector of parameters (slope and intercept), $A$ is the matrix containing a column of x values and a column of ones, $A^T$ is its transpose, and $y$ is the column vector of y values:\n",
    "\n",
    "$$\n",
    "(A^T A) \\beta = A^T y\n",
    "$$\n",
    "\n",
    "To calculate the coefficient of determination:\n",
    "\n",
    "$$ r^2 = \\frac{Cov(X,Y)^2}{Var(X)Var(Y)}$$\n"
   ]
  },
  {
   "cell_type": "code",
   "execution_count": 2,
   "metadata": {},
   "outputs": [],
   "source": [
    "def lin_reg_func (exp_vec, res_vec):\n",
    "    ones = np.array([1]*len(exp_vec))\n",
    "    A = np.column_stack((ones,exp_vec))\n",
    "    T = A.T\n",
    "    a = T@A\n",
    "    b = T@res_vec\n",
    "    beta = np.linalg.solve(a,b)\n",
    "    r2 = (np.cov(exp_vec,res_vec))**2 / (np.var(exp_vec, ddof=1)*np.var(res_vec, ddof=1)) \n",
    "    return [print('m:', beta.item(1), 'int:', beta.item(0), 'r^2:', r2.item(1))]"
   ]
  },
  {
   "cell_type": "markdown",
   "metadata": {},
   "source": [
    "### Applying my function to macaroni pengiun excersise data with heart rate as the explanatory and oxygen consumption as the response variable. "
   ]
  },
  {
   "cell_type": "code",
   "execution_count": 3,
   "metadata": {},
   "outputs": [
    {
     "data": {
      "text/html": [
       "<div>\n",
       "<style scoped>\n",
       "    .dataframe tbody tr th:only-of-type {\n",
       "        vertical-align: middle;\n",
       "    }\n",
       "\n",
       "    .dataframe tbody tr th {\n",
       "        vertical-align: top;\n",
       "    }\n",
       "\n",
       "    .dataframe thead th {\n",
       "        text-align: right;\n",
       "    }\n",
       "</style>\n",
       "<table border=\"1\" class=\"dataframe\">\n",
       "  <thead>\n",
       "    <tr style=\"text-align: right;\">\n",
       "      <th></th>\n",
       "      <th>Group</th>\n",
       "      <th>ID</th>\n",
       "      <th>Heart Rate</th>\n",
       "      <th>Mass Specific VO2</th>\n",
       "    </tr>\n",
       "  </thead>\n",
       "  <tbody>\n",
       "    <tr>\n",
       "      <th>0</th>\n",
       "      <td>BM</td>\n",
       "      <td>cal04</td>\n",
       "      <td>96.0</td>\n",
       "      <td>10.823194</td>\n",
       "    </tr>\n",
       "    <tr>\n",
       "      <th>1</th>\n",
       "      <td>BM</td>\n",
       "      <td>cal04</td>\n",
       "      <td>119.0</td>\n",
       "      <td>17.088499</td>\n",
       "    </tr>\n",
       "    <tr>\n",
       "      <th>2</th>\n",
       "      <td>BM</td>\n",
       "      <td>cal04</td>\n",
       "      <td>162.0</td>\n",
       "      <td>29.527144</td>\n",
       "    </tr>\n",
       "    <tr>\n",
       "      <th>3</th>\n",
       "      <td>BM</td>\n",
       "      <td>cal04</td>\n",
       "      <td>138.4</td>\n",
       "      <td>24.419926</td>\n",
       "    </tr>\n",
       "    <tr>\n",
       "      <th>4</th>\n",
       "      <td>BM</td>\n",
       "      <td>cal04</td>\n",
       "      <td>108.6</td>\n",
       "      <td>11.325901</td>\n",
       "    </tr>\n",
       "  </tbody>\n",
       "</table>\n",
       "</div>"
      ],
      "text/plain": [
       "  Group     ID  Heart Rate  Mass Specific VO2\n",
       "0    BM  cal04        96.0          10.823194\n",
       "1    BM  cal04       119.0          17.088499\n",
       "2    BM  cal04       162.0          29.527144\n",
       "3    BM  cal04       138.4          24.419926\n",
       "4    BM  cal04       108.6          11.325901"
      ]
     },
     "execution_count": 3,
     "metadata": {},
     "output_type": "execute_result"
    }
   ],
   "source": [
    "macaroni = pd.read_csv(\"Macaroni_Penguins_Green.csv\")\n",
    "macaroni.head()"
   ]
  },
  {
   "cell_type": "code",
   "execution_count": 4,
   "metadata": {},
   "outputs": [
    {
     "name": "stdout",
     "output_type": "stream",
     "text": [
      "MY FUNCTION\n",
      "m: 0.18035385335380472 int: -2.8688217734099393 r^2: 0.4908281215079641\n",
      "BUILT IN FUNCTION\n",
      "m:         0.18035385335380294\n",
      "intercept: -2.868821773409703\n",
      "r^2:       0.490828121507964\n"
     ]
    }
   ],
   "source": [
    "hr = macaroni['Heart Rate']\n",
    "vo2 = macaroni['Mass Specific VO2']\n",
    "\n",
    "#my function\n",
    "print('MY FUNCTION')\n",
    "lin_reg_func(hr, vo2)\n",
    "\n",
    "#double check with built in linregress function\n",
    "slope, intercept, r, p_value, std_err = stats.linregress(hr,vo2)\n",
    "print('BUILT IN FUNCTION')\n",
    "print(\"m:        \", slope)\n",
    "print(\"intercept:\", intercept)\n",
    "print(\"r^2:      \", r**2)"
   ]
  },
  {
   "cell_type": "markdown",
   "metadata": {},
   "source": [
    "### Plotting residuals of the model to check assumptions made when performing linear regression"
   ]
  },
  {
   "cell_type": "code",
   "execution_count": 5,
   "metadata": {},
   "outputs": [
    {
     "data": {
      "image/png": "[encoded data removed]",
      "text/plain": [
       "<Figure size 432x288 with 1 Axes>"
      ]
     },
     "metadata": {
      "filenames": {
       "image/png": "/Users/alicesaparov/portfolio/_build/jupyter_execute/LinReg_PCA_9_0.png"
      },
      "needs_background": "light"
     },
     "output_type": "display_data"
    }
   ],
   "source": [
    "def residual_func (exp_vec, res_vec):\n",
    "    ones = np.array([1]*len(exp_vec))\n",
    "    A = np.column_stack((ones, exp_vec))\n",
    "    T = A.T\n",
    "    a = T@A\n",
    "    b = T@res_vec\n",
    "    beta = np.linalg.solve(a,b)\n",
    "    m = beta.item(1)\n",
    "    intercept = beta.item(0)\n",
    "    vo2_prediction = intercept + m*exp_vec\n",
    "    return res_vec - vo2_prediction\n",
    "\n",
    "residuals = residual_func(hr, vo2)\n",
    "plt.scatter(hr, residuals)\n",
    "plt.title('Residuals')\n",
    "plt.xlabel('Heart Rate')\n",
    "plt.ylabel('Residuals')\n",
    "plt.axhline(y=0)\n",
    "plt.show()"
   ]
  },
  {
   "cell_type": "markdown",
   "metadata": {},
   "source": [
    "The residual plot does look consistent with the assumption of linear regression because it appears to be a random cloud of points around the horizontal axis."
   ]
  },
  {
   "cell_type": "markdown",
   "metadata": {},
   "source": [
    "## PCA Function\n",
    "Inputs: n x m matrix of data, the dimension along which to perform PCA (0 or 1 - rows or columns), and the number (k) of principal components to return.\n",
    "\n",
    "Outputs: k principal components and their respective coefficients of determinaton"
   ]
  },
  {
   "cell_type": "code",
   "execution_count": 6,
   "metadata": {},
   "outputs": [],
   "source": [
    "def pca_func(X, d, k):\n",
    "    matrix = np.array(X)\n",
    "    if d == 0:\n",
    "        covmat = np.cov(matrix, rowvar = True)  \n",
    "    if d == 1:\n",
    "        covmat = np.cov(matrix, rowvar = False)\n",
    "    eigval, eigvec = np.linalg.eig(covmat)\n",
    "    eigval = np.real(eigval)\n",
    "    eigvec = np.real(eigvec)\n",
    "    index = eigval.argsort()[::-1]\n",
    "    eigval = eigval[index]\n",
    "    eigvec = eigvec[:,index]\n",
    "    var = []\n",
    "    for i in range(len(eigval)):\n",
    "        var.append(eigval[i] / np.sum(eigval))\n",
    "    return eigvec[:,0:k], var"
   ]
  },
  {
   "cell_type": "markdown",
   "metadata": {},
   "source": [
    "### Applying my PCA function to a gene expression dataset"
   ]
  },
  {
   "cell_type": "markdown",
   "metadata": {},
   "source": [
    "The Spellman dataset provides the gene expression data measured in *Saccharomyces cerevisiae* cell cultures that have been synchronized at different points of the cell cycle. References here: http://finzi.psych.upenn.edu/library/minerva/html/Spellman.html"
   ]
  },
  {
   "cell_type": "code",
   "execution_count": 7,
   "metadata": {},
   "outputs": [
    {
     "data": {
      "text/html": [
       "<div>\n",
       "<style scoped>\n",
       "    .dataframe tbody tr th:only-of-type {\n",
       "        vertical-align: middle;\n",
       "    }\n",
       "\n",
       "    .dataframe tbody tr th {\n",
       "        vertical-align: top;\n",
       "    }\n",
       "\n",
       "    .dataframe thead th {\n",
       "        text-align: right;\n",
       "    }\n",
       "</style>\n",
       "<table border=\"1\" class=\"dataframe\">\n",
       "  <thead>\n",
       "    <tr style=\"text-align: right;\">\n",
       "      <th></th>\n",
       "      <th>time</th>\n",
       "      <th>YAL001C</th>\n",
       "      <th>YAL014C</th>\n",
       "      <th>YAL016W</th>\n",
       "      <th>YAL020C</th>\n",
       "      <th>YAL022C</th>\n",
       "      <th>YAL036C</th>\n",
       "      <th>YAL038W</th>\n",
       "      <th>YAL039C</th>\n",
       "      <th>YAL040C</th>\n",
       "      <th>...</th>\n",
       "      <th>YPR189W</th>\n",
       "      <th>YPR191W</th>\n",
       "      <th>YPR193C</th>\n",
       "      <th>YPR194C</th>\n",
       "      <th>YPR197C</th>\n",
       "      <th>YPR198W</th>\n",
       "      <th>YPR199C</th>\n",
       "      <th>YPR201W</th>\n",
       "      <th>YPR203W</th>\n",
       "      <th>YPR204W</th>\n",
       "    </tr>\n",
       "  </thead>\n",
       "  <tbody>\n",
       "    <tr>\n",
       "      <th>0</th>\n",
       "      <td>40</td>\n",
       "      <td>-0.07</td>\n",
       "      <td>0.215</td>\n",
       "      <td>0.15</td>\n",
       "      <td>-0.350</td>\n",
       "      <td>-0.415</td>\n",
       "      <td>0.540</td>\n",
       "      <td>-0.625</td>\n",
       "      <td>0.05</td>\n",
       "      <td>0.335</td>\n",
       "      <td>...</td>\n",
       "      <td>0.13</td>\n",
       "      <td>-0.435</td>\n",
       "      <td>-0.005</td>\n",
       "      <td>-0.365</td>\n",
       "      <td>0.015</td>\n",
       "      <td>-0.06</td>\n",
       "      <td>0.155</td>\n",
       "      <td>-0.255</td>\n",
       "      <td>0.57</td>\n",
       "      <td>0.405</td>\n",
       "    </tr>\n",
       "    <tr>\n",
       "      <th>1</th>\n",
       "      <td>50</td>\n",
       "      <td>-0.23</td>\n",
       "      <td>0.090</td>\n",
       "      <td>0.15</td>\n",
       "      <td>-0.280</td>\n",
       "      <td>-0.590</td>\n",
       "      <td>0.330</td>\n",
       "      <td>-0.600</td>\n",
       "      <td>-0.24</td>\n",
       "      <td>0.050</td>\n",
       "      <td>...</td>\n",
       "      <td>0.08</td>\n",
       "      <td>-0.130</td>\n",
       "      <td>0.020</td>\n",
       "      <td>-0.590</td>\n",
       "      <td>0.100</td>\n",
       "      <td>0.08</td>\n",
       "      <td>0.190</td>\n",
       "      <td>-0.360</td>\n",
       "      <td>0.12</td>\n",
       "      <td>0.170</td>\n",
       "    </tr>\n",
       "    <tr>\n",
       "      <th>2</th>\n",
       "      <td>60</td>\n",
       "      <td>-0.10</td>\n",
       "      <td>0.025</td>\n",
       "      <td>0.22</td>\n",
       "      <td>-0.215</td>\n",
       "      <td>-0.580</td>\n",
       "      <td>0.215</td>\n",
       "      <td>-0.400</td>\n",
       "      <td>-0.19</td>\n",
       "      <td>-0.040</td>\n",
       "      <td>...</td>\n",
       "      <td>-0.06</td>\n",
       "      <td>-0.350</td>\n",
       "      <td>-0.180</td>\n",
       "      <td>-0.550</td>\n",
       "      <td>0.210</td>\n",
       "      <td>0.21</td>\n",
       "      <td>0.235</td>\n",
       "      <td>-0.300</td>\n",
       "      <td>-0.07</td>\n",
       "      <td>-0.045</td>\n",
       "    </tr>\n",
       "    <tr>\n",
       "      <th>3</th>\n",
       "      <td>70</td>\n",
       "      <td>0.03</td>\n",
       "      <td>-0.040</td>\n",
       "      <td>0.29</td>\n",
       "      <td>-0.150</td>\n",
       "      <td>-0.570</td>\n",
       "      <td>0.100</td>\n",
       "      <td>-0.200</td>\n",
       "      <td>-0.14</td>\n",
       "      <td>-0.130</td>\n",
       "      <td>...</td>\n",
       "      <td>-0.20</td>\n",
       "      <td>-0.570</td>\n",
       "      <td>-0.380</td>\n",
       "      <td>-0.510</td>\n",
       "      <td>0.320</td>\n",
       "      <td>0.34</td>\n",
       "      <td>0.280</td>\n",
       "      <td>-0.240</td>\n",
       "      <td>-0.26</td>\n",
       "      <td>-0.260</td>\n",
       "    </tr>\n",
       "    <tr>\n",
       "      <th>4</th>\n",
       "      <td>80</td>\n",
       "      <td>-0.04</td>\n",
       "      <td>-0.040</td>\n",
       "      <td>-0.10</td>\n",
       "      <td>0.160</td>\n",
       "      <td>-0.090</td>\n",
       "      <td>-0.270</td>\n",
       "      <td>-0.130</td>\n",
       "      <td>-1.22</td>\n",
       "      <td>0.020</td>\n",
       "      <td>...</td>\n",
       "      <td>0.05</td>\n",
       "      <td>-0.210</td>\n",
       "      <td>0.030</td>\n",
       "      <td>0.390</td>\n",
       "      <td>0.110</td>\n",
       "      <td>0.65</td>\n",
       "      <td>-0.260</td>\n",
       "      <td>1.300</td>\n",
       "      <td>-0.44</td>\n",
       "      <td>-0.600</td>\n",
       "    </tr>\n",
       "  </tbody>\n",
       "</table>\n",
       "<p>5 rows × 4382 columns</p>\n",
       "</div>"
      ],
      "text/plain": [
       "   time  YAL001C  YAL014C  YAL016W  YAL020C  YAL022C  YAL036C  YAL038W  \\\n",
       "0    40    -0.07    0.215     0.15   -0.350   -0.415    0.540   -0.625   \n",
       "1    50    -0.23    0.090     0.15   -0.280   -0.590    0.330   -0.600   \n",
       "2    60    -0.10    0.025     0.22   -0.215   -0.580    0.215   -0.400   \n",
       "3    70     0.03   -0.040     0.29   -0.150   -0.570    0.100   -0.200   \n",
       "4    80    -0.04   -0.040    -0.10    0.160   -0.090   -0.270   -0.130   \n",
       "\n",
       "   YAL039C  YAL040C  ...  YPR189W  YPR191W  YPR193C  YPR194C  YPR197C  \\\n",
       "0     0.05    0.335  ...     0.13   -0.435   -0.005   -0.365    0.015   \n",
       "1    -0.24    0.050  ...     0.08   -0.130    0.020   -0.590    0.100   \n",
       "2    -0.19   -0.040  ...    -0.06   -0.350   -0.180   -0.550    0.210   \n",
       "3    -0.14   -0.130  ...    -0.20   -0.570   -0.380   -0.510    0.320   \n",
       "4    -1.22    0.020  ...     0.05   -0.210    0.030    0.390    0.110   \n",
       "\n",
       "   YPR198W  YPR199C  YPR201W  YPR203W  YPR204W  \n",
       "0    -0.06    0.155   -0.255     0.57    0.405  \n",
       "1     0.08    0.190   -0.360     0.12    0.170  \n",
       "2     0.21    0.235   -0.300    -0.07   -0.045  \n",
       "3     0.34    0.280   -0.240    -0.26   -0.260  \n",
       "4     0.65   -0.260    1.300    -0.44   -0.600  \n",
       "\n",
       "[5 rows x 4382 columns]"
      ]
     },
     "execution_count": 7,
     "metadata": {},
     "output_type": "execute_result"
    }
   ],
   "source": [
    "spellman = pd.read_csv(\"Spellman.csv\")\n",
    "spellman.head()"
   ]
  },
  {
   "cell_type": "code",
   "execution_count": 8,
   "metadata": {},
   "outputs": [
    {
     "data": {
      "image/png": "[encoded data removed]",
      "text/plain": [
       "<Figure size 432x288 with 1 Axes>"
      ]
     },
     "metadata": {
      "filenames": {
       "image/png": "/Users/alicesaparov/portfolio/_build/jupyter_execute/LinReg_PCA_16_0.png"
      },
      "needs_background": "light"
     },
     "output_type": "display_data"
    },
    {
     "name": "stdout",
     "output_type": "stream",
     "text": [
      "Total variance explained by the first 10 eigenvalues: 0.8611359654492433\n"
     ]
    }
   ],
   "source": [
    "#remove time column\n",
    "spellman_genes = spellman.iloc[:,np.arange(1,4382)]\n",
    "\n",
    "#run pca function\n",
    "spell_pca = pca_func(spellman_genes, 1, 10)\n",
    "\n",
    "#extract variance of top 10 eigenvalues\n",
    "eigval_10 = spell_pca[1][0:10]\n",
    "pcs = np.arange(0,10,1)\n",
    "\n",
    "plt.plot(pcs, eigval_10)\n",
    "plt.xlabel('Principal Component')\n",
    "plt.ylabel('Fraction of Variance')\n",
    "plt.title('Fraction of variance explained by first 10 Eigenvalues')\n",
    "plt.show()\n",
    "\n",
    "print('Total variance explained by the first 10 eigenvalues:', sum(eigval_10))"
   ]
  },
  {
   "cell_type": "code",
   "execution_count": null,
   "metadata": {},
   "outputs": [],
   "source": []
  }
 ],
 "metadata": {
  "kernelspec": {
   "display_name": "Python 3",
   "language": "python",
   "name": "python3"
  },
  "language_info": {
   "codemirror_mode": {
    "name": "ipython",
    "version": 3
   },
   "file_extension": ".py",
   "mimetype": "text/x-python",
   "name": "python",
   "nbconvert_exporter": "python",
   "pygments_lexer": "ipython3",
   "version": "3.7.6"
  }
 },
 "nbformat": 4,
 "nbformat_minor": 4
}